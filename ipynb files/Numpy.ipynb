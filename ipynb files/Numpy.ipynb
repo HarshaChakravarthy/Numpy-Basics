{
 "cells": [
  {
   "cell_type": "markdown",
   "id": "1b651b94",
   "metadata": {},
   "source": [
    "# Numpy"
   ]
  },
  {
   "cell_type": "markdown",
   "id": "7fb7a673",
   "metadata": {},
   "source": [
    "## Importing Libraries"
   ]
  },
  {
   "cell_type": "code",
   "execution_count": 1,
   "id": "c5137149",
   "metadata": {},
   "outputs": [],
   "source": [
    "import numpy as np"
   ]
  },
  {
   "cell_type": "markdown",
   "id": "a14738e0",
   "metadata": {},
   "source": [
    "## Array Creation"
   ]
  },
  {
   "cell_type": "code",
   "execution_count": 2,
   "id": "68ff2603",
   "metadata": {},
   "outputs": [
    {
     "name": "stdout",
     "output_type": "stream",
     "text": [
      "[1 2 3 4 5 6]\n"
     ]
    }
   ],
   "source": [
    "arr = np.array([1,2,3,4,5,6])\n",
    "\n",
    "print(arr)"
   ]
  },
  {
   "cell_type": "code",
   "execution_count": 3,
   "id": "99f39c4b",
   "metadata": {},
   "outputs": [
    {
     "name": "stdout",
     "output_type": "stream",
     "text": [
      "[[0. 0.]\n",
      " [0. 0.]\n",
      " [0. 0.]\n",
      " [0. 0.]\n",
      " [0. 0.]\n",
      " [0. 0.]\n",
      " [0. 0.]\n",
      " [0. 0.]\n",
      " [0. 0.]\n",
      " [0. 0.]]\n",
      "[0. 0. 0. 0. 0. 0. 0. 0. 0. 0. 0.]\n"
     ]
    }
   ],
   "source": [
    "zero = np.zeros((10,2))\n",
    "zero1 = np.zeros(11)\n",
    "print(zero)\n",
    "print(zero1)"
   ]
  },
  {
   "cell_type": "code",
   "execution_count": 4,
   "id": "69e1c123",
   "metadata": {},
   "outputs": [
    {
     "name": "stdout",
     "output_type": "stream",
     "text": [
      "[1. 1. 1. 1. 1. 1. 1. 1. 1. 1.]\n",
      "[[1. 1. 1. 1. 1. 1. 1. 1. 1. 1.]\n",
      " [1. 1. 1. 1. 1. 1. 1. 1. 1. 1.]]\n"
     ]
    }
   ],
   "source": [
    "np1 = np.ones(10)\n",
    "np2 = np.ones((2,10))\n",
    "print(np1)\n",
    "print(np2)"
   ]
  },
  {
   "cell_type": "code",
   "execution_count": 5,
   "id": "aa86fe23",
   "metadata": {},
   "outputs": [
    {
     "name": "stdout",
     "output_type": "stream",
     "text": [
      "[2 3 4 5 6 7 8 9]\n"
     ]
    }
   ],
   "source": [
    "range_arr = np.arange(2,10,1)\n",
    "print(range_arr)"
   ]
  },
  {
   "cell_type": "code",
   "execution_count": 6,
   "id": "3eda4d82",
   "metadata": {},
   "outputs": [
    {
     "name": "stdout",
     "output_type": "stream",
     "text": [
      "(9,)\n"
     ]
    }
   ],
   "source": [
    "shape = np.shape([1,2,3,4,5,6,7,8,9])\n",
    "print(shape)"
   ]
  },
  {
   "cell_type": "code",
   "execution_count": 7,
   "id": "27b43d87",
   "metadata": {},
   "outputs": [
    {
     "name": "stdout",
     "output_type": "stream",
     "text": [
      "int32\n"
     ]
    }
   ],
   "source": [
    "print(arr.dtype)"
   ]
  },
  {
   "cell_type": "markdown",
   "id": "6012634a",
   "metadata": {},
   "source": [
    "## Array Manipulation"
   ]
  },
  {
   "cell_type": "code",
   "execution_count": 8,
   "id": "0ad3d864",
   "metadata": {},
   "outputs": [
    {
     "name": "stdout",
     "output_type": "stream",
     "text": [
      "[[1 2 3]\n",
      " [4 5 6]]\n"
     ]
    }
   ],
   "source": [
    "np1 = np.array([1,2,3,4,5,6])\n",
    "reshaped = np1.reshape(2,3)\n",
    "print(reshaped)"
   ]
  },
  {
   "cell_type": "code",
   "execution_count": 9,
   "id": "4eb9c23f",
   "metadata": {},
   "outputs": [
    {
     "name": "stdout",
     "output_type": "stream",
     "text": [
      "[[1 2 3]\n",
      " [7 8 9]\n",
      " [4 5 6]]\n"
     ]
    }
   ],
   "source": [
    "np1 = np.array([[1,2,3],[7,8,9]])\n",
    "np2 = np.array([[4,5,6]])\n",
    "\n",
    "concatenated = np.concatenate((np1, np2), axis = 0)\n",
    "print(concatenated)"
   ]
  },
  {
   "cell_type": "code",
   "execution_count": 10,
   "id": "6b95df9b",
   "metadata": {},
   "outputs": [
    {
     "name": "stdout",
     "output_type": "stream",
     "text": [
      "[[1 2 3]\n",
      " [4 5 6]]\n"
     ]
    }
   ],
   "source": [
    "np1 = np.array([1,2,3])\n",
    "np2 = np.array([4,5,6])\n",
    "vstacked = np.vstack((np1,np2))\n",
    "print(vstacked)"
   ]
  },
  {
   "cell_type": "code",
   "execution_count": 11,
   "id": "f54ae00e",
   "metadata": {},
   "outputs": [
    {
     "name": "stdout",
     "output_type": "stream",
     "text": [
      "[1 2 3 4 5 6]\n"
     ]
    }
   ],
   "source": [
    "np1 = np.array([1,2,3])\n",
    "np2 = np.array([4,5,6])\n",
    "vstacked = np.hstack((np1,np2))\n",
    "print(vstacked)"
   ]
  },
  {
   "cell_type": "code",
   "execution_count": 12,
   "id": "b85bc48b",
   "metadata": {},
   "outputs": [
    {
     "name": "stdout",
     "output_type": "stream",
     "text": [
      "[array([1, 2, 3]), array([4, 5, 6]), array([7, 8, 9])]\n"
     ]
    }
   ],
   "source": [
    "np1 = np.array([1,2,3,4,5,6,7,8,9])\n",
    "split_arr = np.split(np1,3)\n",
    "print(split_arr)"
   ]
  },
  {
   "cell_type": "code",
   "execution_count": 13,
   "id": "134a31e3",
   "metadata": {},
   "outputs": [
    {
     "name": "stdout",
     "output_type": "stream",
     "text": [
      "[[1 4]\n",
      " [2 5]\n",
      " [3 6]]\n"
     ]
    }
   ],
   "source": [
    "matrix = np.array([[1,2,3],[4,5,6]])\n",
    "\n",
    "transposed = np.transpose(matrix)\n",
    "print(transposed)"
   ]
  },
  {
   "cell_type": "code",
   "execution_count": 14,
   "id": "a1284c25",
   "metadata": {},
   "outputs": [
    {
     "name": "stdout",
     "output_type": "stream",
     "text": [
      "[[1 2 3]\n",
      " [4 1 2]\n",
      " [3 4 1]]\n"
     ]
    }
   ],
   "source": [
    "arr = np.array([1,2,3,4])\n",
    "\n",
    "resized = np.resize(arr,(3,3))\n",
    "print(resized)"
   ]
  },
  {
   "cell_type": "markdown",
   "id": "ea056f91",
   "metadata": {},
   "source": [
    "## Statistical Analysis"
   ]
  },
  {
   "cell_type": "code",
   "execution_count": 15,
   "id": "7e09fa32",
   "metadata": {},
   "outputs": [
    {
     "name": "stdout",
     "output_type": "stream",
     "text": [
      "15\n",
      "3.0\n",
      "3.0\n",
      "1.4142135623730951\n",
      "2.0\n",
      "2.5\n",
      "1.0\n",
      "1\n",
      "5\n"
     ]
    }
   ],
   "source": [
    "np1 = np.array([1,2,3,4,5])\n",
    "\n",
    "print(sum(np1))\n",
    "print(np.mean(np1))\n",
    "print(np.median(np1))\n",
    "print(np.std(np1))\n",
    "print(np.var(np1))\n",
    "print(np.cov(np1))\n",
    "print(np.corrcoef(np1))\n",
    "print(min(np1))\n",
    "print(max(np1))"
   ]
  },
  {
   "cell_type": "code",
   "execution_count": 16,
   "id": "f1678bbf",
   "metadata": {},
   "outputs": [
    {
     "name": "stdout",
     "output_type": "stream",
     "text": [
      "[0.94293853 0.76420718 0.90958723 0.00148211 0.54462148]\n"
     ]
    }
   ],
   "source": [
    "random = np.random.rand(5)\n",
    "print(random)"
   ]
  },
  {
   "cell_type": "code",
   "execution_count": 17,
   "id": "23891f20",
   "metadata": {},
   "outputs": [
    {
     "name": "stdout",
     "output_type": "stream",
     "text": [
      "[-1.71845386  0.49178488  0.80002271  0.66441727 -0.04587789]\n"
     ]
    }
   ],
   "source": [
    "random = np.random.randn(5)\n",
    "print(random)"
   ]
  },
  {
   "cell_type": "code",
   "execution_count": 18,
   "id": "c171d1f4",
   "metadata": {},
   "outputs": [
    {
     "name": "stdout",
     "output_type": "stream",
     "text": [
      "[2 2 3 1 1]\n",
      "[1.  1.8 2.6 3.4 4.2 5. ]\n"
     ]
    }
   ],
   "source": [
    "arr = np.array([1, 2, 1, 2, 3, 3, 3, 4, 5])\n",
    "\n",
    "hist, bins = np.histogram(arr, bins = 5)\n",
    "print(hist)\n",
    "print(bins)"
   ]
  },
  {
   "cell_type": "markdown",
   "id": "8813cdd9",
   "metadata": {},
   "source": [
    "## Indexing & Filtering"
   ]
  },
  {
   "cell_type": "code",
   "execution_count": 19,
   "id": "b4fb09d3",
   "metadata": {},
   "outputs": [
    {
     "name": "stdout",
     "output_type": "stream",
     "text": [
      "[2 4 6 8]\n",
      "[1 3 5 7 9]\n"
     ]
    }
   ],
   "source": [
    "#extract, Where, isnan, sort, unique\n",
    "\n",
    "arr = np.array([1,2,3,4,5,6,7,8,9])\n",
    "condition = arr % 2 == 0\n",
    "extraced = np.extract(condition, arr)\n",
    "print(extraced)\n",
    "\n",
    "arr = np.array([1,2,3,4,5,6,7,8,9])\n",
    "condition = arr % 2 == 1\n",
    "extracted = np.extract(condition, arr)\n",
    "print(extracted)\n"
   ]
  },
  {
   "cell_type": "code",
   "execution_count": 20,
   "id": "687cf8c5",
   "metadata": {},
   "outputs": [
    {
     "name": "stdout",
     "output_type": "stream",
     "text": [
      "[1 2 3 9 9 9]\n",
      "[ 10  20 100 100 100]\n"
     ]
    }
   ],
   "source": [
    "arr = np.array([1,2,3,4,5,6])\n",
    "condition = np.where(arr > 3, 9 ,arr)\n",
    "print(condition)\n",
    "#print(arr[condition])\n",
    "\n",
    "arr = np.array([10, 20, 30, 40, 50])\n",
    "modified_arr = np.where(arr > 25, 100, arr)  # Replace values > 25 with 100\n",
    "print(modified_arr)  # Output: [10 20 100 100 100]"
   ]
  },
  {
   "cell_type": "code",
   "execution_count": 21,
   "id": "656d1657",
   "metadata": {},
   "outputs": [
    {
     "name": "stdout",
     "output_type": "stream",
     "text": [
      "[False False  True False  True]\n"
     ]
    }
   ],
   "source": [
    "arr = np.array([1,2,np.nan, 4, np.nan])\n",
    "print(np.isnan(arr))"
   ]
  },
  {
   "cell_type": "code",
   "execution_count": 22,
   "id": "96ea2bdd",
   "metadata": {},
   "outputs": [
    {
     "name": "stdout",
     "output_type": "stream",
     "text": [
      "[1 1 2 2 3 5 6 6 9]\n"
     ]
    }
   ],
   "source": [
    "arr = np.array([1,3,5,6,2,6,9,1,2])\n",
    "condition = np.sort(arr)\n",
    "print(condition)"
   ]
  },
  {
   "cell_type": "code",
   "execution_count": 23,
   "id": "befc37d0",
   "metadata": {},
   "outputs": [
    {
     "name": "stdout",
     "output_type": "stream",
     "text": [
      "[1 2 3 4]\n"
     ]
    }
   ],
   "source": [
    "arr = np.array([1,1,3,4,2,3,1,4,2,1])\n",
    "condition = np.unique(arr)\n",
    "print(condition)"
   ]
  },
  {
   "cell_type": "markdown",
   "id": "3d835b8c",
   "metadata": {},
   "source": [
    "## File I/O"
   ]
  },
  {
   "cell_type": "code",
   "execution_count": 24,
   "id": "a48acfde",
   "metadata": {},
   "outputs": [],
   "source": [
    "arr = np.array([1,2,3,4,5])\n",
    "\n",
    "np.save('my_list.npy', arr)\n"
   ]
  },
  {
   "cell_type": "code",
   "execution_count": 25,
   "id": "7883cbf6",
   "metadata": {},
   "outputs": [
    {
     "name": "stdout",
     "output_type": "stream",
     "text": [
      "[1 2 3 4 5]\n"
     ]
    }
   ],
   "source": [
    "loading = np.load('my_list.npy')\n",
    "print(loading)"
   ]
  }
 ],
 "metadata": {
  "kernelspec": {
   "display_name": "Python 3 (ipykernel)",
   "language": "python",
   "name": "python3"
  },
  "language_info": {
   "codemirror_mode": {
    "name": "ipython",
    "version": 3
   },
   "file_extension": ".py",
   "mimetype": "text/x-python",
   "name": "python",
   "nbconvert_exporter": "python",
   "pygments_lexer": "ipython3",
   "version": "3.11.5"
  }
 },
 "nbformat": 4,
 "nbformat_minor": 5
}
